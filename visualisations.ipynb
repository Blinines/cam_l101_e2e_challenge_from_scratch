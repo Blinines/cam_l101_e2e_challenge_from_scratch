{
 "nbformat": 4,
 "nbformat_minor": 2,
 "metadata": {
  "language_info": {
   "name": "python",
   "codemirror_mode": {
    "name": "ipython",
    "version": 3
   },
   "version": "3.7.4"
  },
  "orig_nbformat": 2,
  "file_extension": ".py",
  "mimetype": "text/x-python",
  "name": "python",
  "npconvert_exporter": "python",
  "pygments_lexer": "ipython3",
  "version": 3
 },
 "cells": [
  {
   "cell_type": "code",
   "execution_count": 53,
   "metadata": {},
   "outputs": [],
   "source": [
    "import pandas as pd\n",
    "import collections\n",
    "from pre_process.input_model import InputModelTrain"
   ]
  },
  {
   "cell_type": "code",
   "execution_count": 61,
   "metadata": {},
   "outputs": [],
   "source": [
    "df_train = pd.read_csv('./e2e-dataset/init-data/trainset.csv', sep=',')\n",
    "num_example = None\n",
    "delex_slots = ['name', 'near']\n",
    "mr_values = collections.defaultdict(list)"
   ]
  },
  {
   "cell_type": "code",
   "execution_count": 55,
   "metadata": {},
   "outputs": [],
   "source": [
    "mr = []\n",
    "for index, row in df_train.iterrows():\n",
    "    if not num_example:\n",
    "        num_example = float('inf')\n",
    "    if index < num_example:\n",
    "        curr_da = InputModelTrain(row)\n",
    "        curr_da.pre_process()\n",
    "        mr.append(curr_da.input_encoder)"
   ]
  },
  {
   "cell_type": "code",
   "execution_count": 56,
   "metadata": {},
   "outputs": [
    {
     "data": {
      "text/plain": "[['name',\n  'The Vaults',\n  'eatType',\n  'pub',\n  'priceRange',\n  'more than £30',\n  'customer rating',\n  '5 out of 5',\n  'near',\n  'Café Adriatic'],\n ['name',\n  'The Cambridge Blue',\n  'eatType',\n  'pub',\n  'food',\n  'English',\n  'priceRange',\n  'cheap',\n  'near',\n  'Café Brazil'],\n ['name',\n  'The Eagle',\n  'eatType',\n  'coffee shop',\n  'food',\n  'Japanese',\n  'priceRange',\n  'less than £20',\n  'customer rating',\n  'low',\n  'area',\n  'riverside',\n  'familyFriendly',\n  'yes',\n  'near',\n  'Burger King'],\n ['name',\n  'The Mill',\n  'eatType',\n  'coffee shop',\n  'food',\n  'French',\n  'priceRange',\n  '£20-25',\n  'area',\n  'riverside',\n  'near',\n  'The Sorrento'],\n ['name',\n  'Loch Fyne',\n  'food',\n  'French',\n  'customer rating',\n  'high',\n  'area',\n  'riverside',\n  'near',\n  'The Rice Boat'],\n ['name',\n  'Bibimbap House',\n  'food',\n  'English',\n  'priceRange',\n  'moderate',\n  'area',\n  'riverside',\n  'near',\n  'Clare Hall'],\n ['name',\n  'The Rice Boat',\n  'food',\n  'French',\n  'customer rating',\n  'average',\n  'area',\n  'riverside',\n  'familyFriendly',\n  'no'],\n ['name',\n  'The Wrestlers',\n  'eatType',\n  'coffee shop',\n  'food',\n  'Japanese',\n  'priceRange',\n  'less than £20',\n  'area',\n  'riverside',\n  'familyFriendly',\n  'no',\n  'near',\n  'Raja Indian Cuisine'],\n ['name',\n  'Aromi',\n  'eatType',\n  'coffee shop',\n  'food',\n  'French',\n  'customer rating',\n  'low',\n  'area',\n  'city centre',\n  'familyFriendly',\n  'no'],\n ['name',\n  'The Phoenix',\n  'food',\n  'Fast food',\n  'priceRange',\n  'moderate',\n  'customer rating',\n  '3 out of 5',\n  'area',\n  'riverside']]"
     },
     "execution_count": 56,
     "metadata": {},
     "output_type": "execute_result"
    }
   ],
   "source": [
    "mr"
   ]
  },
  {
   "cell_type": "code",
   "execution_count": 57,
   "metadata": {},
   "outputs": [],
   "source": [
    "for mr_occ in mr:\n",
    "    for index, value in enumerate(mr_occ):\n",
    "        if index%2 == 1:  # value (given that an MR is composed of an accumulation of slot[value])\n",
    "            if mr_occ[index-1] not in delex_slots:\n",
    "                if value not in mr_values[mr_occ[index-1]]:\n",
    "                    mr_values[mr_occ[index-1]].append(value)"
   ]
  },
  {
   "cell_type": "code",
   "execution_count": 59,
   "metadata": {},
   "outputs": [
    {
     "data": {
      "text/plain": "['eatType', 'priceRange', 'customer rating', 'food', 'area', 'familyFriendly']"
     },
     "execution_count": 59,
     "metadata": {},
     "output_type": "execute_result"
    }
   ],
   "source": [
    "list(mr_values.keys())"
   ]
  },
  {
   "cell_type": "code",
   "execution_count": 60,
   "metadata": {},
   "outputs": [
    {
     "data": {
      "text/plain": "['pub', 'coffee shop']"
     },
     "execution_count": 60,
     "metadata": {},
     "output_type": "execute_result"
    }
   ],
   "source": [
    "mr_values['eatType']"
   ]
  },
  {
   "cell_type": "code",
   "execution_count": null,
   "metadata": {},
   "outputs": [],
   "source": []
  }
 ]
}
{
 "nbformat": 4,
 "nbformat_minor": 2,
 "metadata": {
  "language_info": {
   "name": "python",
   "codemirror_mode": {
    "name": "ipython",
    "version": 3
   },
   "version": "3.7.4"
  },
  "orig_nbformat": 2,
  "file_extension": ".py",
  "mimetype": "text/x-python",
  "name": "python",
  "npconvert_exporter": "python",
  "pygments_lexer": "ipython3",
  "version": 3
 },
 "cells": [
  {
   "source": [
    "import pandas as pd\n",
    "import collections\n",
    "from pre_process.input_model import InputModelTrain"
   ],
   "cell_type": "code",
   "outputs": [],
   "metadata": {},
   "execution_count": 64
  },
  {
   "source": [
    "df_train = pd.read_csv('./e2e-dataset/init-data/trainset.csv', sep=',')\n",
    "num_example = None\n",
    "delex_slots = ['name', 'near']\n",
    "mr_values = collections.defaultdict(list)"
   ],
   "cell_type": "code",
   "outputs": [],
   "metadata": {},
   "execution_count": 65
  },
  {
   "source": [
    "mr = []\n",
    "for index, row in df_train.iterrows():\n",
    "    if not num_example:\n",
    "        num_example = float('inf')\n",
    "    if index < num_example:\n",
    "        curr_da = InputModelTrain(row)\n",
    "        curr_da.pre_process()\n",
    "        mr.append(curr_da.input_encoder)"
   ],
   "cell_type": "code",
   "outputs": [],
   "metadata": {},
   "execution_count": 66
  },
  {
   "source": [
    "for mr_occ in mr:\n",
    "    for index, value in enumerate(mr_occ):\n",
    "        if index%2 == 1:  # value (given that an MR is composed of an accumulation of slot[value])\n",
    "            if mr_occ[index-1] not in delex_slots:\n",
    "                if value not in mr_values[mr_occ[index-1]]:\n",
    "                    mr_values[mr_occ[index-1]].append(value)"
   ],
   "cell_type": "code",
   "outputs": [],
   "metadata": {},
   "execution_count": 67
  },
  {
   "source": [
    "list(mr_values.keys())"
   ],
   "cell_type": "code",
   "outputs": [
    {
     "output_type": "execute_result",
     "data": {
      "text/plain": "['eatType', 'priceRange', 'customer rating', 'food', 'area', 'familyFriendly']"
     },
     "metadata": {},
     "execution_count": 68
    }
   ],
   "metadata": {},
   "execution_count": 68
  },
  {
   "source": [
    "mr_values['eatType']"
   ],
   "cell_type": "code",
   "outputs": [
    {
     "output_type": "execute_result",
     "data": {
      "text/plain": "['pub', 'coffee shop', 'restaurant']"
     },
     "metadata": {},
     "execution_count": 69
    }
   ],
   "metadata": {},
   "execution_count": 69
  },
  {
   "source": [
    "mr_values['customer rating']"
   ],
   "cell_type": "code",
   "outputs": [
    {
     "output_type": "execute_result",
     "data": {
      "text/plain": "['5 out of 5', 'low', 'high', 'average', '3 out of 5', '1 out of 5']"
     },
     "metadata": {},
     "execution_count": 71
    }
   ],
   "metadata": {},
   "execution_count": 71
  },
  {
   "source": [
    "mr_values['food']"
   ],
   "cell_type": "code",
   "outputs": [
    {
     "output_type": "execute_result",
     "data": {
      "text/plain": "['English', 'Japanese', 'French', 'Fast food', 'Italian', 'Indian', 'Chinese']"
     },
     "metadata": {},
     "execution_count": 72
    }
   ],
   "metadata": {},
   "execution_count": 72
  },
  {
   "source": [
    "mr_values['area']"
   ],
   "cell_type": "code",
   "outputs": [
    {
     "output_type": "execute_result",
     "data": {
      "text/plain": "['riverside', 'city centre']"
     },
     "metadata": {},
     "execution_count": 73
    }
   ],
   "metadata": {},
   "execution_count": 73
  },
  {
   "source": [
    "mr_values['familyFriendly']"
   ],
   "cell_type": "code",
   "outputs": [
    {
     "output_type": "execute_result",
     "data": {
      "text/plain": "['yes', 'no']"
     },
     "metadata": {},
     "execution_count": 74
    }
   ],
   "metadata": {},
   "execution_count": 74
  },
  {
   "cell_type": "code",
   "execution_count": null,
   "metadata": {},
   "outputs": [],
   "source": []
  },
  {
   "source": [
    "mr_values['priceRange']"
   ],
   "cell_type": "code",
   "outputs": [
    {
     "output_type": "execute_result",
     "data": {
      "text/plain": "['more than £30', 'cheap', 'less than £20', '£20-25', 'moderate', 'high']"
     },
     "metadata": {},
     "execution_count": 70
    }
   ],
   "metadata": {},
   "execution_count": 70
  }
 ]
}